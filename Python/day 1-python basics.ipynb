{
 "cells": [
  {
   "cell_type": "code",
   "execution_count": 1,
   "metadata": {},
   "outputs": [
    {
     "name": "stdout",
     "output_type": "stream",
     "text": [
      "hello world\n"
     ]
    }
   ],
   "source": [
    "print('hello world')"
   ]
  },
  {
   "cell_type": "markdown",
   "metadata": {},
   "source": [
    "# white spaces"
   ]
  },
  {
   "cell_type": "code",
   "execution_count": 2,
   "metadata": {},
   "outputs": [],
   "source": [
    "#populate the lists means adding data to the list"
   ]
  },
  {
   "cell_type": "code",
   "execution_count": 7,
   "metadata": {},
   "outputs": [],
   "source": [
    "#you can use a backslash to indicate that a statement continues onto the next line, although we’ll rarely do this:\n",
    "#two_plus_three = 2 + \\  \n",
    "#3\n",
    "#Whitespace is ignored inside parentheses and brackets\n",
    "#IPython has a magic function %paste, which correctly pastes whatever is on your clipboard, whitespace and all. This alone is a good reason to use IPython. \n"
   ]
  },
  {
   "cell_type": "markdown",
   "metadata": {},
   "source": [
    "# divison"
   ]
  },
  {
   "cell_type": "code",
   "execution_count": 8,
   "metadata": {},
   "outputs": [
    {
     "data": {
      "text/plain": [
       "2.5"
      ]
     },
     "execution_count": 8,
     "metadata": {},
     "output_type": "execute_result"
    }
   ],
   "source": [
    "5/2"
   ]
  },
  {
   "cell_type": "code",
   "execution_count": 9,
   "metadata": {},
   "outputs": [],
   "source": [
    "from __future__ import division "
   ]
  },
  {
   "cell_type": "code",
   "execution_count": 10,
   "metadata": {},
   "outputs": [
    {
     "data": {
      "text/plain": [
       "2.5"
      ]
     },
     "execution_count": 10,
     "metadata": {},
     "output_type": "execute_result"
    }
   ],
   "source": [
    "5/2"
   ]
  },
  {
   "cell_type": "code",
   "execution_count": 11,
   "metadata": {},
   "outputs": [
    {
     "data": {
      "text/plain": [
       "2"
      ]
     },
     "execution_count": 11,
     "metadata": {},
     "output_type": "execute_result"
    }
   ],
   "source": [
    "#integer division\n",
    "5//2"
   ]
  },
  {
   "cell_type": "markdown",
   "metadata": {},
   "source": [
    "# functions"
   ]
  },
  {
   "cell_type": "code",
   "execution_count": 14,
   "metadata": {},
   "outputs": [
    {
     "data": {
      "text/plain": [
       "4"
      ]
     },
     "execution_count": 14,
     "metadata": {},
     "output_type": "execute_result"
    }
   ],
   "source": [
    "# functions\n",
    "def double(x):\n",
    "    return x*2\n",
    "double(2)"
   ]
  },
  {
   "cell_type": "code",
   "execution_count": 22,
   "metadata": {},
   "outputs": [
    {
     "name": "stdout",
     "output_type": "stream",
     "text": [
      "<function double at 0x00000177FB046C18>\n"
     ]
    }
   ],
   "source": [
    "def apply_to_one(f):\n",
    "    return f\n",
    "my_double = double     # refers to the previously defined function \n",
    "#print(my_double)\n",
    "x = apply_to_one(my_double)\n",
    "print(x)"
   ]
  },
  {
   "cell_type": "code",
   "execution_count": 28,
   "metadata": {},
   "outputs": [
    {
     "data": {
      "text/plain": [
       "10"
      ]
     },
     "execution_count": 28,
     "metadata": {},
     "output_type": "execute_result"
    }
   ],
   "source": [
    "#It is also easy to create short anonymous functions, or lambdas:\n",
    "\n",
    "#another_double = lambda x:2*x   not prefered\n",
    "\n",
    "def another_double(x):return 2*x\n",
    "another_double(5)"
   ]
  },
  {
   "cell_type": "code",
   "execution_count": 5,
   "metadata": {},
   "outputs": [
    {
     "name": "stdout",
     "output_type": "stream",
     "text": [
      "my default message\n"
     ]
    },
    {
     "data": {
      "text/plain": [
       "'ashar mehmood'"
      ]
     },
     "execution_count": 5,
     "metadata": {},
     "output_type": "execute_result"
    }
   ],
   "source": [
    "#Function parameters can also be given default arguments, which only need to be specified when you want a value other than the default\n",
    "def my_print(message=\"my default message\"):\n",
    "    print(message)\n",
    "my_print()\n",
    "\n",
    "def full_name(first=\"ashar\",last=\"mehmood\"):\n",
    "    return first+\" \"+last\n",
    "full_name()"
   ]
  },
  {
   "cell_type": "markdown",
   "metadata": {},
   "source": [
    "# Strings"
   ]
  },
  {
   "cell_type": "code",
   "execution_count": 32,
   "metadata": {},
   "outputs": [],
   "source": [
    "single_quoted_string = 'data science'\n",
    "double_quoted_string = \"data science\" "
   ]
  },
  {
   "cell_type": "code",
   "execution_count": 33,
   "metadata": {},
   "outputs": [
    {
     "data": {
      "text/plain": [
       "1"
      ]
     },
     "execution_count": 33,
     "metadata": {},
     "output_type": "execute_result"
    }
   ],
   "source": [
    "tab_string = \"\\t\" \n",
    "#represents tab\n",
    "len(tab_string)"
   ]
  },
  {
   "cell_type": "code",
   "execution_count": 34,
   "metadata": {},
   "outputs": [
    {
     "data": {
      "text/plain": [
       "2"
      ]
     },
     "execution_count": 34,
     "metadata": {},
     "output_type": "execute_result"
    }
   ],
   "source": [
    "not_tab_string = r\"\\t\"\n",
    "len(not_tab_string)"
   ]
  },
  {
   "cell_type": "code",
   "execution_count": 37,
   "metadata": {},
   "outputs": [
    {
     "name": "stdout",
     "output_type": "stream",
     "text": [
      "this is first line\n",
      "this is second\n",
      "this is third\n"
     ]
    }
   ],
   "source": [
    "multi_line_string =  \"\"\"this is first line\n",
    "this is second\n",
    "this is third\"\"\"\n",
    "print(multi_line_string)"
   ]
  },
  {
   "cell_type": "code",
   "execution_count": 12,
   "metadata": {},
   "outputs": [
    {
     "name": "stdout",
     "output_type": "stream",
     "text": [
      "ashar mehmood\n"
     ]
    }
   ],
   "source": [
    "first_name = \"ashar\"\n",
    "last_name = \"mehmood\"\n",
    "full_name1 = first_name+\" \"+last_name                #string.addition\n",
    "full_name2 = \"{0} {1}\".format(first_name,last_name)  #strig.format\n",
    "full_name3 = f\"{first_name} {last_name}\"\n",
    "print(full_name3)"
   ]
  },
  {
   "cell_type": "markdown",
   "metadata": {},
   "source": [
    "# Exceptions"
   ]
  },
  {
   "cell_type": "code",
   "execution_count": 40,
   "metadata": {},
   "outputs": [
    {
     "name": "stdout",
     "output_type": "stream",
     "text": [
      "cannot divide by zero\n"
     ]
    }
   ],
   "source": [
    "#print(0/0)\n",
    "try:\n",
    "    print(0/0)\n",
    "except ZeroDivisionError:\n",
    "    print(\"cannot divide by zero\")"
   ]
  },
  {
   "cell_type": "markdown",
   "metadata": {},
   "source": [
    "# Lists"
   ]
  },
  {
   "cell_type": "code",
   "execution_count": 20,
   "metadata": {},
   "outputs": [
    {
     "name": "stdout",
     "output_type": "stream",
     "text": [
      "6\n"
     ]
    }
   ],
   "source": [
    "integer_list = [1, 2, 3]\n",
    "hetrogeneous_list = [\"string\", 0.1, True]\n",
    "list_of_lists = [integer_list, hetrogeneous_list, []]\n",
    "list_length = len(integer_list)   #equals 3\n",
    "list_sum = sum(integer_list)            #equals 6\n",
    "print(list_sum)\n"
   ]
  },
  {
   "cell_type": "code",
   "execution_count": 34,
   "metadata": {},
   "outputs": [
    {
     "name": "stdout",
     "output_type": "stream",
     "text": [
      "[-1, 1, 2, 3, 4, 5, 6, 7, 8, 9]\n"
     ]
    }
   ],
   "source": [
    "x = [0,1,2,3,4,5,6,7,8,9]\n",
    "zero = x[0]\n",
    "nine = x[-1]     #equals 9 , pythonic for last element\n",
    "eight=x[-2]        #equals 8 , pythonic for next-to-last element\n",
    "x[0] = -1        #changing zeroth element from 0 to -1\n",
    "#print(x)\n",
    "first_three = x[:3]      #list slicing\n",
    "three_to_end = x[3:]\n",
    "one_to_four =  x[1:5]\n",
    "last_three = x[-3:]\n",
    "#print(last_three)\n",
    "without_first_and_last = x[1:-1]\n",
    "#print(without_first_and_last)\n",
    "copy_of_x = x[:]\n",
    "print(x)"
   ]
  },
  {
   "cell_type": "code",
   "execution_count": 37,
   "metadata": {},
   "outputs": [
    {
     "data": {
      "text/plain": [
       "False"
      ]
     },
     "execution_count": 37,
     "metadata": {},
     "output_type": "execute_result"
    }
   ],
   "source": [
    "#A slice can take a third argument to indicate its stride, which can be negative:\n",
    "\n",
    "every_third = x[::3]\n",
    "five_to_three = x[5:2:-1]\n",
    "\n",
    "#Python has an in operator to check for list membership:\n",
    "\n",
    "1 in [1, 2, 3]\n",
    "0 in x\n",
    "\n",
    "#This check involves examining the elements of the list one at a time, which\n",
    "#means that you probably shouldn’t use it unless you know your list is pretty\n",
    "#small (or unless you don’t care how long the check takes).\n",
    "\n"
   ]
  },
  {
   "cell_type": "code",
   "execution_count": 43,
   "metadata": {},
   "outputs": [
    {
     "name": "stdout",
     "output_type": "stream",
     "text": [
      "[1, 2, 3, 4, 5, 6]\n",
      "[1, 2, 3, 4, 5, 6]\n",
      "0\n",
      "4\n"
     ]
    }
   ],
   "source": [
    "#It is easy to concatenate lists together. If you want to modify a list in place,\n",
    "#you can use extend to add items from another collection:\n",
    "\n",
    "x = [1,2,3]\n",
    "x.extend([4,5,6])\n",
    "print(x)\n",
    "\n",
    "x = [1,2,3]\n",
    "y = x + [4,5,6]\n",
    "print(y)\n",
    "\n",
    "#More frequently we will append to lists one item at a time:\n",
    "\n",
    "x = [1,2,3]\n",
    "x.append(0)\n",
    "y = x[-1]\n",
    "print(y)\n",
    "print(len(x))"
   ]
  },
  {
   "cell_type": "code",
   "execution_count": 48,
   "metadata": {},
   "outputs": [
    {
     "name": "stdout",
     "output_type": "stream",
     "text": [
      "1\n",
      "2\n",
      "2\n"
     ]
    }
   ],
   "source": [
    "#It’s often convenient to unpack lists when you know how many elements they contain:\n",
    "x , y = [1,2]\n",
    "print(x)\n",
    "print(y)\n",
    "#although you will get a ValueError if you don’t have the same number of elements on both sides.\n",
    "\n",
    "#A common idiom is to use an underscore for a value you’re going to throw away:\n",
    "_, y = [98,2]\n",
    "print(y)                    # now y==2 , didn't care about the first element\n"
   ]
  },
  {
   "cell_type": "markdown",
   "metadata": {},
   "source": [
    "# Tuples"
   ]
  },
  {
   "cell_type": "code",
   "execution_count": 50,
   "metadata": {},
   "outputs": [
    {
     "name": "stdout",
     "output_type": "stream",
     "text": [
      "tuple can not be modified\n"
     ]
    }
   ],
   "source": [
    "my_list = [1,2]\n",
    "my_tuple = (1,2)\n",
    "other_tuple = 3,4\n",
    "my_list[1] = 3       # now my list is [1,3]\n",
    "\n",
    "try:\n",
    "    my_tuple[1] = 3\n",
    "except TypeError:\n",
    "    print(\"tuple can not be modified\")"
   ]
  },
  {
   "cell_type": "code",
   "execution_count": 55,
   "metadata": {},
   "outputs": [
    {
     "data": {
      "text/plain": [
       "(11, 30)"
      ]
     },
     "execution_count": 55,
     "metadata": {},
     "output_type": "execute_result"
    }
   ],
   "source": [
    "#Tuples are a convenient way to return multiple values from functions\n",
    "\n",
    "def sum_and_product(x,y):\n",
    "    return (x+y) , (x*y)\n",
    "\n",
    "sum_and_product(5,6)"
   ]
  },
  {
   "cell_type": "code",
   "execution_count": 57,
   "metadata": {},
   "outputs": [
    {
     "name": "stdout",
     "output_type": "stream",
     "text": [
      "1 2\n"
     ]
    }
   ],
   "source": [
    "#Tuples (and lists) can also be used for multiple assignment:\n",
    "x , y = 1,2\n",
    "x,y =(1,2)\n",
    "print(x,y)"
   ]
  },
  {
   "cell_type": "markdown",
   "metadata": {},
   "source": [
    "# Dictionaries"
   ]
  },
  {
   "cell_type": "code",
   "execution_count": 66,
   "metadata": {},
   "outputs": [
    {
     "name": "stdout",
     "output_type": "stream",
     "text": [
      "80\n",
      "no grades for kate\n",
      "True\n",
      "False\n"
     ]
    }
   ],
   "source": [
    "#dictionary associates values with keys and allow us to quickly retrive the value corresponding to a given key\n",
    "empty_dict = {}        #pythonic\n",
    "empty_dict_2 = dict() #less pythonic\n",
    "\n",
    "grades = {\"joel\":80, \"tim\":95}  #dictionary literal\n",
    "\n",
    "#You can look up the value for a key using square brackets\n",
    "\n",
    "joels_grades = grades[\"joel\"]\n",
    "print(joels_grades)\n",
    "\n",
    "#but a key error is occured if we ask for a key which is not in the dictionary\n",
    "try:\n",
    "    kates_grades = grades[\"kate\"]\n",
    "    print(kates_grades)\n",
    "except KeyError:\n",
    "    print(\"no grades for kate\")\n",
    "    \n",
    "# check for the existance of key using \"in\"\n",
    "\n",
    "joel_has_grades = \"joel\" in grades\n",
    "print(joel_has_grades)\n",
    "kate_has_grades = \"kate\" in grades\n",
    "print(kate_has_grades)"
   ]
  },
  {
   "cell_type": "code",
   "execution_count": 72,
   "metadata": {},
   "outputs": [
    {
     "name": "stdout",
     "output_type": "stream",
     "text": [
      "80\n",
      "100\n",
      "None\n",
      "4\n"
     ]
    }
   ],
   "source": [
    "#Dictionaries have a get method that returns a default value (instead of\n",
    "#raising an exception) when you look up a key that’s not in the dictionary:\n",
    "\n",
    "\n",
    "joels_grade = grades.get(\"joel\",0)\n",
    "print(joels_grade)\n",
    "\n",
    "kates_grade = grades.get(\"kate\",0)\n",
    "print(kates_grade)\n",
    "\n",
    "no_ones_grade = grades.get(\"No one\")\n",
    "print(no_ones_grade)\n",
    "\n",
    "#You can assign key/value pairs using the same square brackets:\n",
    "\n",
    "grades[\"Tim\"] = 99\n",
    "grades[\"kate\"] = 100\n",
    "num_students = len(grades)\n",
    "print(num_students)\n",
    "\n",
    "\n",
    "\n"
   ]
  },
  {
   "cell_type": "code",
   "execution_count": 90,
   "metadata": {},
   "outputs": [],
   "source": [
    "# we can use dictionaries to represent structured data\n",
    "tweet={\n",
    "    \"user\": \"joelgrus\",\n",
    "    \"text\": \"DataScience is awesome\",\n",
    "    \"retweet_count\": 100,\n",
    "    \"hashtags\": [\"#data\",\"#science\",\"#dataScience\",\"#career\",\"#awesome\",\"#yolo\"]\n",
    "}"
   ]
  },
  {
   "cell_type": "code",
   "execution_count": 93,
   "metadata": {},
   "outputs": [
    {
     "name": "stdout",
     "output_type": "stream",
     "text": [
      "dict_keys(['user', 'text', 'retweet_count', 'hashtags'])\n",
      "dict_values(['joelgrus', 'DataScience is awesome', 100, ['#data', '#science', '#dataScience', '#career', '#awesome', '#yolo']])\n"
     ]
    },
    {
     "data": {
      "text/plain": [
       "True"
      ]
     },
     "execution_count": 93,
     "metadata": {},
     "output_type": "execute_result"
    }
   ],
   "source": [
    "tweet_keys = tweet.keys()\n",
    "print(tweet_keys)\n",
    "\n",
    "tweet_values = tweet.values()\n",
    "print(tweet_values)\n",
    "\n",
    "\"user\" in tweet_keys    #not pythonic\n",
    "\"user\" in tweet         #pythonic\n",
    "\"joelgrus\" in tweet_values   #slow but only way to check\n",
    "\n",
    "#Dictionary keys must be “hashable\""
   ]
  },
  {
   "cell_type": "markdown",
   "metadata": {},
   "source": [
    "# defaultDict"
   ]
  },
  {
   "cell_type": "code",
   "execution_count": 104,
   "metadata": {},
   "outputs": [
    {
     "name": "stdout",
     "output_type": "stream",
     "text": [
      "{'h': 1, 'e': 1, 'l': 3, 'o': 2, ' ': 1, 'w': 1, 'r': 1, 'd': 1}\n"
     ]
    }
   ],
   "source": [
    "#Imagine that you’re trying to count the words in a document,one approach is:\n",
    "document=\"hello world\"\n",
    "word_counts = {}\n",
    "for word in document:\n",
    "    if word in word_counts:\n",
    "        word_counts[word]+=1\n",
    "    else:\n",
    "        word_counts[word] = 1\n",
    "#print(word_counts)\n",
    "\n",
    "#forgiveness is better than permission approach\n",
    "\n",
    "word_counts = {}\n",
    "for word in document:\n",
    "    try:\n",
    "        word_counts[word] += 1 \n",
    "    except KeyError:\n",
    "        word_counts[word] = 1\n",
    "        \n",
    "#print(word_counts)\n",
    "\n",
    "#third approach is to use get method\n",
    "\n",
    "word_counts = {}\n",
    "for word in document:\n",
    "    previous_count = word_counts.get(word,0)\n",
    "    word_counts[word] = previous_count + 1\n",
    "print(word_counts)\n",
    "\n",
    "\n"
   ]
  },
  {
   "cell_type": "code",
   "execution_count": 110,
   "metadata": {},
   "outputs": [
    {
     "name": "stdout",
     "output_type": "stream",
     "text": [
      "defaultdict(<class 'int'>, {'h': 1, 'e': 1, 'l': 3, 'o': 2, ' ': 1, 'w': 1, 'r': 1, 'd': 1})\n"
     ]
    }
   ],
   "source": [
    "\n",
    "#A defaultdict is like a regular dictionary, except that when you try\n",
    "#to look up a key it doesn’t contain it first adds a value for it using a zeroargument\n",
    "#function you provided when you created it\n",
    "\n",
    "from collections import defaultdict\n",
    "\n",
    "word_counts = defaultdict(int)      # int produces zero\n",
    "\n",
    "for word in document:\n",
    "    word_counts[word]+=1\n",
    "\n",
    "print(word_counts)\n"
   ]
  },
  {
   "cell_type": "code",
   "execution_count": 128,
   "metadata": {},
   "outputs": [
    {
     "name": "stdout",
     "output_type": "stream",
     "text": [
      "defaultdict(<class 'list'>, {2: [1]})\n",
      "defaultdict(<class 'dict'>, {'joel': {'city': 'Seattle'}})\n",
      "defaultdict(<function <lambda> at 0x00000203F3886438>, {2: [0, 1]})\n"
     ]
    }
   ],
   "source": [
    "dd_list = defaultdict(list)\n",
    "dd_list[2].append(1)\n",
    "print(dd_list)\n",
    "\n",
    "dd_dict = defaultdict(dict)\n",
    "dd_dict[\"joel\"][\"city\"]=\"Seattle\"\n",
    "print(dd_dict)\n",
    "\n",
    "dd_pair = defaultdict(lambda: [0,0])\n",
    "dd_pair[2][1] = 1\n",
    "print(dd_pair)"
   ]
  },
  {
   "cell_type": "markdown",
   "metadata": {},
   "source": [
    "# Counters"
   ]
  },
  {
   "cell_type": "code",
   "execution_count": 129,
   "metadata": {},
   "outputs": [],
   "source": [
    "#A Counter turns a sequence of values into a defaultdict(int)-like object\n",
    "#mapping keys to counts\n",
    "\n",
    "from collections import Counter\n",
    "c = Counter([0,1,2,0])\n",
    "\n",
    "\n",
    "\n"
   ]
  },
  {
   "cell_type": "markdown",
   "metadata": {},
   "source": [
    "# Sets"
   ]
  },
  {
   "cell_type": "code",
   "execution_count": 138,
   "metadata": {},
   "outputs": [
    {
     "name": "stdout",
     "output_type": "stream",
     "text": [
      "True\n",
      "False\n"
     ]
    }
   ],
   "source": [
    "#sets represent a collection of distinct elements\n",
    "primes_below_10 = {2,3,5,7}\n",
    "\n",
    "# for empty sets {} already means “empty\n",
    "#dict.” In that case you’ll need to use set() itself\n",
    "\n",
    "s = set()\n",
    "s.add(1)       #s is now {1}\n",
    "s.add(2)       #s is now {1,2}\n",
    "s.add(2)       #s is still {1,2} \n",
    "x = len(s)\n",
    "x\n",
    "y = 2 in s\n",
    "print(y)\n",
    "z = 3 in s \n",
    "print(z)"
   ]
  },
  {
   "cell_type": "code",
   "execution_count": 140,
   "metadata": {},
   "outputs": [],
   "source": [
    "#We’ll use sets for two main reasons. The first is that in is a very fast\n",
    "#operation on sets. If we have a large collection of items that we want to use\n",
    "#for a membership test, a set is more appropriate than a list:"
   ]
  },
  {
   "cell_type": "code",
   "execution_count": 143,
   "metadata": {},
   "outputs": [
    {
     "name": "stdout",
     "output_type": "stream",
     "text": [
      "3\n"
     ]
    }
   ],
   "source": [
    "#The second reason is to find the distinct items in a collection:\n",
    "\n",
    "item_list = [1, 2, 3, 1, 2, 3]\n",
    "num_items = len(item_list)        #6\n",
    "item_set = set(item_list)         #{1,2,3}\n",
    "num_distinct_items = len(item_set)\n",
    "print(num_distinct_items)\n",
    "\n"
   ]
  },
  {
   "cell_type": "code",
   "execution_count": null,
   "metadata": {},
   "outputs": [],
   "source": []
  }
 ],
 "metadata": {
  "kernelspec": {
   "display_name": "Python 3",
   "language": "python",
   "name": "python3"
  },
  "language_info": {
   "codemirror_mode": {
    "name": "ipython",
    "version": 3
   },
   "file_extension": ".py",
   "mimetype": "text/x-python",
   "name": "python",
   "nbconvert_exporter": "python",
   "pygments_lexer": "ipython3",
   "version": "3.7.4"
  }
 },
 "nbformat": 4,
 "nbformat_minor": 2
}
