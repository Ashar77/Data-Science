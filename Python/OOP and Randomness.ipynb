{
 "cells": [
  {
   "cell_type": "code",
   "execution_count": 1,
   "metadata": {},
   "outputs": [],
   "source": [
    "#To define a class, you use the class keyword and a PascalCase name:"
   ]
  },
  {
   "cell_type": "code",
   "execution_count": 23,
   "metadata": {},
   "outputs": [
    {
     "name": "stdout",
     "output_type": "stream",
     "text": [
      "None\n",
      "4\n",
      "4\n",
      "0\n"
     ]
    }
   ],
   "source": [
    "class CountingClicker:\n",
    "    def __init__(self, count=0):\n",
    "        self.count = count\n",
    "    def __repe__(self):\n",
    "        return f\"CountingClicker(count={self.count})\"\n",
    "    \n",
    "    def click(self,num_times=1):\n",
    "        self.count+=num_times\n",
    "    \n",
    "    def read(self):\n",
    "        return self.count\n",
    "    \n",
    "    def reset(self):\n",
    "        self.count=0\n",
    "        \n",
    "        \n",
    "\n",
    "clicker1 = CountingClicker(3)        # initialized to 3\n",
    "print(clicker1.click())\n",
    "print(clicker1.count)\n",
    "print(clicker1.read())\n",
    "clicker1.reset()\n",
    "print(clicker1.read())\n",
    "        \n",
    "        "
   ]
  },
  {
   "cell_type": "code",
   "execution_count": 29,
   "metadata": {},
   "outputs": [
    {
     "name": "stdout",
     "output_type": "stream",
     "text": [
      "2\n",
      "2\n"
     ]
    }
   ],
   "source": [
    "class NoResetClicker(CountingClicker):    #inheritence\n",
    "    def reset(self):\n",
    "        pass\n",
    "\n",
    "clicker2 = NoResetClicker()\n",
    "clicker2.click()\n",
    "clicker2.click()\n",
    "print(clicker2.read())\n",
    "clicker2.reset()              # reset shouldn't do anything\n",
    "print(clicker2.read())\n",
    "\n"
   ]
  },
  {
   "cell_type": "markdown",
   "metadata": {},
   "source": [
    "# Randomness"
   ]
  },
  {
   "cell_type": "code",
   "execution_count": 37,
   "metadata": {},
   "outputs": [
    {
     "name": "stdout",
     "output_type": "stream",
     "text": [
      "[0.5714025946899135, 0.4288890546751146, 0.5780913011344704, 0.20609823213950174]\n"
     ]
    }
   ],
   "source": [
    "import random\n",
    "random.seed(10)     #ensures we get the same result everytime\n",
    "\n",
    "four_uniform_randoms = [random.random() for _ in range(4)]\n",
    "#random.random() produces numbers uniformly between 0 and 1.It's the random function we'll usemost often.\n",
    "print(four_uniform_randoms)\n",
    "\n"
   ]
  },
  {
   "cell_type": "code",
   "execution_count": 60,
   "metadata": {},
   "outputs": [
    {
     "name": "stdout",
     "output_type": "stream",
     "text": [
      "9\n",
      "4\n",
      "[5, 6, 9, 2, 3, 'a', 10, 4, 1, 8, 7]\n"
     ]
    }
   ],
   "source": [
    "#The random module actually produces pseudorandom (that is,\n",
    "#deterministic) numbers based on an internal state that you can set with\n",
    "#random.seed if you want to get reproducible results:\n",
    "\n",
    "random.seed(10)\n",
    "#print(random.random())\n",
    "random.seed(10)           #same everytime\n",
    "#print(random.random())\n",
    "random.seed(10)           #same everytime\n",
    "#print(random.random())   \n",
    "\n",
    "print(random.randrange(10))\n",
    "print(random.randrange(4,7))\n",
    "\n",
    "\n",
    "up_to_ten = [1,2,3,4,5,6,7,8,9,10,'a']\n",
    "random.shuffle(up_to_ten)\n",
    "print(up_to_ten)\n",
    "\n"
   ]
  },
  {
   "cell_type": "code",
   "execution_count": 82,
   "metadata": {},
   "outputs": [
    {
     "name": "stdout",
     "output_type": "stream",
     "text": [
      "[3, 5, 8, 7]\n"
     ]
    }
   ],
   "source": [
    "my_best_friend = random.choice([\"Alice\", \"Bob\", \"Charlie\"])\n",
    "#print(my_best_friend)\n",
    "\n",
    "#if you need to randomly choose a sample of elements without\n",
    "#replacement (i.e., with no duplicates), you can use random.sample:\n",
    "\n",
    "lottery_numbers = range(60)\n",
    "winning_numbers = random.sample(lottery_numbers,6)\n",
    "#winning_numbers\n",
    "\n",
    "#To choose a sample of elements with replacement (i.e., allowing duplicates),\n",
    "#you can just make multiple calls to random.choice:\n",
    "\n",
    "four_with_replacement = [random.choice(range(10)) for _ in range(4)]\n",
    "print(four_with_replacement)\n",
    "\n",
    "\n",
    "\n",
    "\n"
   ]
  },
  {
   "cell_type": "code",
   "execution_count": null,
   "metadata": {},
   "outputs": [],
   "source": []
  }
 ],
 "metadata": {
  "kernelspec": {
   "display_name": "Python 3",
   "language": "python",
   "name": "python3"
  },
  "language_info": {
   "codemirror_mode": {
    "name": "ipython",
    "version": 3
   },
   "file_extension": ".py",
   "mimetype": "text/x-python",
   "name": "python",
   "nbconvert_exporter": "python",
   "pygments_lexer": "ipython3",
   "version": "3.7.4"
  }
 },
 "nbformat": 4,
 "nbformat_minor": 2
}
